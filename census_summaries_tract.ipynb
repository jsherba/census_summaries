{
 "cells": [
  {
   "cell_type": "markdown",
   "id": "revolutionary-slovak",
   "metadata": {},
   "source": [
    "# Census data summaries for 2000, 2010, 2020 census\n",
    "\n",
    "Summaries for 2010 and 2020 are derived from the [American Community Survey](https://www.census.gov/programs-surveys/acs). Year 2000 summaries are derived from the 2000 decentenial census. Tract level socio-economic data is summarized for three geographies: 1-mile radius, closest tracts, tenderloin/SoMA neighborhoods. "
   ]
  },
  {
   "cell_type": "markdown",
   "id": "super-business",
   "metadata": {},
   "source": [
    "## Import packages"
   ]
  },
  {
   "cell_type": "code",
   "execution_count": 252,
   "id": "functional-stack",
   "metadata": {},
   "outputs": [],
   "source": [
    "# base libraries\n",
    "import requests, json, os\n",
    "import pandas as pd\n",
    "import numpy as np\n",
    "from collections import defaultdict\n",
    "\n",
    "# graph libraries\n",
    "import plotly.express as px\n",
    "from ipywidgets import interact, interactive, fixed, interact_manual\n",
    "import ipywidgets as widgets"
   ]
  },
  {
   "cell_type": "markdown",
   "id": "informed-singles",
   "metadata": {},
   "source": [
    "## Retrieve data from Census API\n",
    "All socio-economic data comes from the Census ACS 5-year estimates for 2010 and 2020 and the 2000 decentenial census and is available at the tract level through the census API. See census API docs [here](https://www.census.gov/data/developers/data-sets.html)"
   ]
  },
  {
   "cell_type": "markdown",
   "id": "undefined-carol",
   "metadata": {},
   "source": [
    "### Census Attribute IDs\n",
    "The census API returns attribute values for provided attribute IDs. A list of attribute ID's needed for calculating the socio-economic profile data is compiled below from IDs stored in attribute_lookup.csv."
   ]
  },
  {
   "cell_type": "code",
   "execution_count": 253,
   "id": "billion-practice",
   "metadata": {},
   "outputs": [],
   "source": [
    "#set run year\n",
    "run_year = \"2000\""
   ]
  },
  {
   "cell_type": "code",
   "execution_count": 254,
   "id": "curious-tonight",
   "metadata": {},
   "outputs": [],
   "source": [
    "# create list of attribute IDs from attribute_lookup.csv\n",
    "attribute_lookup_df = pd.read_csv (r'./lookup_tables/attribute_lookup.csv', dtype=str)"
   ]
  },
  {
   "cell_type": "code",
   "execution_count": 255,
   "id": "foster-milwaukee",
   "metadata": {},
   "outputs": [],
   "source": [
    "# set year and extension to choose API endpoint\n",
    "attribute_col = \"attribute_\" + run_year\n",
    "extension_col = \"extension_\" + run_year\n",
    "\n",
    "attribute_dict = attribute_lookup_df[[attribute_col, extension_col]].to_dict('records')\n",
    "\n",
    "attribute_dict_source = defaultdict(list)\n",
    "for record in attribute_dict:\n",
    "    attribute_dict_source[record[extension_col]]+=record[attribute_col].split(\",\")  "
   ]
  },
  {
   "cell_type": "markdown",
   "id": "determined-grain",
   "metadata": {},
   "source": [
    "### Build Census API URL and Make Query\n",
    "The code below builds the URL for the census API call \n",
    "\n",
    "- Tract code is '*' to collect all tracts\n",
    "- State code is '06' for CA\n",
    "- County code is '075' for San Francisco County\n",
    "- Attributes are defined by the attribute id list and includes all relevant attributes for the socio-economic data calcs"
   ]
  },
  {
   "cell_type": "code",
   "execution_count": 256,
   "id": "cordless-buffalo",
   "metadata": {},
   "outputs": [],
   "source": [
    "census_endpoints = {\"2000\": r\"2000/dec/\", \n",
    "                   \"2010\":r\"2010/acs/\", \n",
    "                   \"2020\":r\"2020/acs/\"}"
   ]
  },
  {
   "cell_type": "code",
   "execution_count": 257,
   "id": "worse-detail",
   "metadata": {},
   "outputs": [],
   "source": [
    "# function builds the api URL from tract_code, state_code, county_code, and attribute ids. \n",
    "def build_census_url(tract_code, state_code, county_code, attribute_ids, file_name):\n",
    "    attributes = ','.join(attribute_ids)\n",
    "    census_url = r'https://api.census.gov/data/'+ census_endpoints[run_year] + file_name + '?get={}&for=tract:{}&in=state:{}&in=county:{}'\\\n",
    "                .format(attributes, tract_code, state_code, county_code)\n",
    "    return census_url\n",
    "    "
   ]
  },
  {
   "cell_type": "code",
   "execution_count": 258,
   "id": "second-costume",
   "metadata": {},
   "outputs": [],
   "source": [
    "# function makes a single api call and collects results in a pandas dataframe\n",
    "def make_census_api_call(census_url):\n",
    "    # make API call to Census\n",
    "    resp = requests.get(census_url)\n",
    "    if resp.status_code != 200:\n",
    "        # this means something went wrong\n",
    "        resp.raise_for_status()\n",
    "       \n",
    "    # retrieve data as json and convert to Pandas Dataframe\n",
    "    data = resp.json()\n",
    "    headers = data.pop(0)\n",
    "    df = pd.DataFrame(data, columns=headers)\n",
    "\n",
    "    # convert values that are not state, county, or tract to numeric type\n",
    "    cols=[i for i in df.columns if i not in [\"state\",\"county\",\"tract\"]]\n",
    "  \n",
    "    return df"
   ]
  },
  {
   "cell_type": "code",
   "execution_count": 259,
   "id": "utility-detail",
   "metadata": {
    "scrolled": true
   },
   "outputs": [
    {
     "name": "stdout",
     "output_type": "stream",
     "text": [
      "https://api.census.gov/data/2000/dec/sf1?get=P015B001,P015D001,P007005,P007007,P007003,P015H001,P015G001,P009004,P019002,P015I001,P015F001,P008010,P008003,P023002,P007008,P007001,P007006,P015E001,P015001,P015C001&for=tract:*&in=state:06&in=county:075\n",
      "https://api.census.gov/data/2000/dec/sf3?get=HCT011020,H069010,H011010,HCT011023,P042004,P042038,P042024,HCT011018,H008002,HCT011024,P092002,HCT011003,H069009,HCT011021,P042007,HCT012003,H069007,H069008,P042031,HCT011019,P042045,P042028,P042021,HCT011022,H001001,H011002,H006003,P042048,HCT011025,HCT011016,HCT011017,H016002,P042015&for=tract:*&in=state:06&in=county:075\n"
     ]
    }
   ],
   "source": [
    "# set geo variables and make api call\n",
    "tract_code = \"*\"\n",
    "state_code = \"06\"\n",
    "county_code = \"075\"\n",
    "\n",
    "df=None\n",
    "first = True\n",
    "\n",
    "for file in attribute_dict_source.keys():\n",
    "    attribute_ids = attribute_dict_source[file]\n",
    "    attribute_ids = list(set(attribute_ids))\n",
    "    # split attributes into groups of 45, run a census query for each, merge outputs into a single df\n",
    "    split_attribute_ids = [attribute_ids[i:i+45] for i in range(0, len(attribute_ids), 45)]\n",
    "\n",
    "    for ids in split_attribute_ids:\n",
    "        census_url = build_census_url(tract_code, state_code, county_code, ids, file)\n",
    "        #census_url = build_census_url(state_code, county_code, ids, file)\n",
    "        print(census_url)\n",
    "        returned_df = make_census_api_call(census_url)\n",
    "        if first:\n",
    "            df = returned_df\n",
    "            first = False\n",
    "        else:\n",
    "            returned_df = returned_df.drop(columns=['state', 'county'])\n",
    "            df = pd.merge(df, returned_df, on='tract', how='left')\n",
    "\n"
   ]
  },
  {
   "cell_type": "code",
   "execution_count": 260,
   "id": "large-legislature",
   "metadata": {},
   "outputs": [],
   "source": [
    "# set tract to int\n",
    "df[\"tract\"]=df[\"tract\"].astype(str).astype(int)"
   ]
  },
  {
   "cell_type": "markdown",
   "id": "inclusive-symposium",
   "metadata": {},
   "source": [
    "## Prep geo lookup tables before to subset according to 3 geographies"
   ]
  },
  {
   "cell_type": "code",
   "execution_count": 261,
   "id": "sophisticated-cache",
   "metadata": {},
   "outputs": [],
   "source": [
    "# Create list of attribute IDs from attribute_lookup.csv\n",
    "geo_lookup_df = pd.read_csv (r'./lookup_tables/geo_lookup_' + run_year + '.csv', dtype=str)"
   ]
  },
  {
   "cell_type": "code",
   "execution_count": 262,
   "id": "smaller-lunch",
   "metadata": {},
   "outputs": [],
   "source": [
    "geo_lookup_df[\"tractid\"]= geo_lookup_df[\"tractid\"].astype(str).astype(int)"
   ]
  },
  {
   "cell_type": "code",
   "execution_count": 264,
   "id": "boring-collaboration",
   "metadata": {},
   "outputs": [],
   "source": [
    "closest_tracts = geo_lookup_df[geo_lookup_df[\"closest\"]==\"Y\"][\"tractid\"].tolist()\n",
    "df_closest=df[df[\"tract\"].isin(closest_tracts)]\n",
    "df_closest=df_closest.set_index('tract')\n",
    "df_closest_t=df_closest.T\n",
    "df_closest_t = df_closest_t.reset_index()\n",
    "df_closest_t = df_closest_t.rename(columns={\"tract\": \"\", \"index\": \"attribute\"})\n",
    "df_closest_t = df_closest_t.reset_index()"
   ]
  },
  {
   "cell_type": "code",
   "execution_count": 265,
   "id": "signal-massage",
   "metadata": {},
   "outputs": [],
   "source": [
    "mile_1_tracts = geo_lookup_df[geo_lookup_df[\"1mile\"]==\"Y\"][\"tractid\"].tolist()\n",
    "df_mile_1=df[df[\"tract\"].isin(mile_1_tracts)]\n",
    "df_mile_1=df_mile_1.set_index('tract')\n",
    "df_mile_1_t =df_mile_1.T\n",
    "df_mile_1_t = df_mile_1_t.reset_index()\n",
    "df_mile_1_t = df_mile_1_t.rename(columns={\"tract\": \"\", \"index\": \"attribute\"})\n",
    "df_mile_1_t = df_mile_1_t.reset_index()"
   ]
  },
  {
   "cell_type": "code",
   "execution_count": 266,
   "id": "civilian-oracle",
   "metadata": {},
   "outputs": [],
   "source": [
    "neighborhood_tracts = geo_lookup_df[geo_lookup_df[\"neighborhood\"].isin([\"Tenderloin\",\"SOMA\"])][\"tractid\"].tolist()\n",
    "df_neighborhood = df[df[\"tract\"].isin(neighborhood_tracts)]\n",
    "df_neighborhood=df_neighborhood.set_index('tract')\n",
    "df_neighborhood_t = df_neighborhood.T\n",
    "df_neighborhood_t = df_neighborhood_t.reset_index()\n",
    "\n",
    "df_neighborhood_t = df_neighborhood_t.rename(columns={\"tract\": \"\", \"index\": \"attribute\"})\n",
    "df_neighborhood_t = df_neighborhood_t.reset_index()"
   ]
  },
  {
   "cell_type": "markdown",
   "id": "infrared-violation",
   "metadata": {},
   "source": [
    "## Define functions for calculating socio-economic data\n",
    "Takes care of attributes that are calculated as a sum of multiple attributes"
   ]
  },
  {
   "cell_type": "code",
   "execution_count": 268,
   "id": "electric-member",
   "metadata": {},
   "outputs": [],
   "source": [
    "attributes = attribute_lookup_df.to_dict('records')"
   ]
  },
  {
   "cell_type": "code",
   "execution_count": 269,
   "id": "likely-ownership",
   "metadata": {},
   "outputs": [],
   "source": [
    "# function runs all calcs for each neighborhood or supervisor district\n",
    "def calc_socio_economic_data(df_t,tracts, attributes):\n",
    "    # create empty dictionary to add calculated attribute information to\n",
    "    all_calc_data = []\n",
    "    # calculate all stats for each neighborhood\n",
    "    for attribute in attributes:\n",
    "        attribute_info = {'category':attribute['category'], \"attribute_name\":attribute[\"attribute_name\"]}\n",
    "        # population\n",
    "        attribute_list = attribute[attribute_col].split(\",\")\n",
    "        filter_values = df_t[df_t['attribute'].isin(attribute_list)]\n",
    "        for tract in tracts:\n",
    "            attribute_value = filter_values[tract].astype(str).astype(int).sum()\n",
    "            attribute_info[tract] = attribute_value \n",
    "      \n",
    "        all_calc_data.append(attribute_info)\n",
    "        \n",
    "            \n",
    "    #return calc dictionary\n",
    "    return all_calc_data"
   ]
  },
  {
   "cell_type": "markdown",
   "id": "greenhouse-negative",
   "metadata": {},
   "source": [
    "## Caculate Socioeconomic Profiles"
   ]
  },
  {
   "cell_type": "markdown",
   "id": "affiliated-layout",
   "metadata": {},
   "source": [
    "### Run Socioeconomic Profiles Calcs"
   ]
  },
  {
   "cell_type": "code",
   "execution_count": 270,
   "id": "minus-tumor",
   "metadata": {},
   "outputs": [],
   "source": [
    "# calculate 1 mile data\n",
    "mile_1_data = calc_socio_economic_data(df_mile_1_t, mile_1_tracts, attributes)\n",
    "mile_1_data_df = pd.DataFrame(mile_1_data)"
   ]
  },
  {
   "cell_type": "code",
   "execution_count": 271,
   "id": "central-merchandise",
   "metadata": {},
   "outputs": [],
   "source": [
    "# calcualte neighborhood data\n",
    "neighborhood_data = calc_socio_economic_data(df_neighborhood_t, neighborhood_tracts, attributes)\n",
    "neighborhood_data_df = pd.DataFrame(neighborhood_data)"
   ]
  },
  {
   "cell_type": "code",
   "execution_count": 272,
   "id": "ancient-marketplace",
   "metadata": {},
   "outputs": [],
   "source": [
    "# calculate closest data\n",
    "closest_data = calc_socio_economic_data(df_closest_t, closest_tracts, attributes)\n",
    "closest_data_df = pd.DataFrame(closest_data)"
   ]
  },
  {
   "cell_type": "markdown",
   "id": "answering-bread",
   "metadata": {},
   "source": [
    "## Export"
   ]
  },
  {
   "cell_type": "code",
   "execution_count": 273,
   "id": "about-imagination",
   "metadata": {
    "scrolled": false
   },
   "outputs": [],
   "source": [
    "# export both dataset views to csv\n",
    "neighborhood_data_df.to_csv(r\"./output/neighborhood_\"+run_year+\".csv\", index = False)"
   ]
  },
  {
   "cell_type": "code",
   "execution_count": 274,
   "id": "guided-concern",
   "metadata": {},
   "outputs": [],
   "source": [
    "mile_1_data_df.to_csv(r\"./output/mile_1_\"+run_year+\".csv\", index = False)"
   ]
  },
  {
   "cell_type": "code",
   "execution_count": 275,
   "id": "international-master",
   "metadata": {},
   "outputs": [],
   "source": [
    "closest_data_df.to_csv(r\"./output/closest_\"+run_year+\".csv\", index = False)"
   ]
  },
  {
   "cell_type": "code",
   "execution_count": null,
   "id": "demonstrated-serial",
   "metadata": {},
   "outputs": [],
   "source": []
  }
 ],
 "metadata": {
  "kernelspec": {
   "display_name": "Python 3",
   "language": "python",
   "name": "python3"
  },
  "language_info": {
   "codemirror_mode": {
    "name": "ipython",
    "version": 3
   },
   "file_extension": ".py",
   "mimetype": "text/x-python",
   "name": "python",
   "nbconvert_exporter": "python",
   "pygments_lexer": "ipython3",
   "version": "3.9.4"
  },
  "toc": {
   "base_numbering": 1,
   "nav_menu": {},
   "number_sections": true,
   "sideBar": true,
   "skip_h1_title": false,
   "title_cell": "Table of Contents",
   "title_sidebar": "Contents",
   "toc_cell": false,
   "toc_position": {
    "height": "789px",
    "left": "46px",
    "top": "110px",
    "width": "299px"
   },
   "toc_section_display": true,
   "toc_window_display": true
  }
 },
 "nbformat": 4,
 "nbformat_minor": 5
}
